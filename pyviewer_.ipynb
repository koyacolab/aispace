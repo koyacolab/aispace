{
 "cells": [
  {
   "cell_type": "code",
   "execution_count": 1,
   "metadata": {
    "colab": {
     "base_uri": "https://localhost:8080/"
    },
    "executionInfo": {
     "elapsed": 17648,
     "status": "ok",
     "timestamp": 1697603251148,
     "user": {
      "displayName": "Koyaua Uvarov",
      "userId": "04551130653342672393"
     },
     "user_tz": -180
    },
    "id": "BxeXzvEcuV91",
    "outputId": "6fe6b43b-f626-4835-b14e-ce23f904dde7"
   },
   "outputs": [
    {
     "name": "stdout",
     "output_type": "stream",
     "text": [
      "Mounted at /content/gdrive/\n",
      "gdrive\tsample_data\n"
     ]
    }
   ],
   "source": [
    "from google.colab import drive\n",
    "drive.mount('/content/gdrive/')\n",
    "\n",
    "!ls"
   ]
  },
  {
   "cell_type": "code",
   "execution_count": 2,
   "metadata": {
    "executionInfo": {
     "elapsed": 419,
     "status": "ok",
     "timestamp": 1697603251563,
     "user": {
      "displayName": "Koyaua Uvarov",
      "userId": "04551130653342672393"
     },
     "user_tz": -180
    },
    "id": "hedKcLJRub3Q"
   },
   "outputs": [],
   "source": [
    "import os\n",
    "\n",
    "home_dir = '/content/gdrive/My Drive/A0/aispace'\n",
    "os.chdir(home_dir)"
   ]
  },
  {
   "cell_type": "code",
   "execution_count": 4,
   "metadata": {
    "colab": {
     "base_uri": "https://localhost:8080/",
     "height": 35
    },
    "executionInfo": {
     "elapsed": 278,
     "status": "ok",
     "timestamp": 1697603305100,
     "user": {
      "displayName": "Koyaua Uvarov",
      "userId": "04551130653342672393"
     },
     "user_tz": -180
    },
    "id": "zAAFJvN9uYON",
    "outputId": "df1728f3-7325-41ff-b76a-daf1fe9cd753"
   },
   "outputs": [
    {
     "name": "stdout",
     "output_type": "stream",
     "text": [
      "/content/gdrive/My Drive/A0/aispace/great.py\n"
     ]
    },
    {
     "data": {
      "application/javascript": [
       "\n",
       "      ((filepath) => {{\n",
       "        if (!google.colab.kernel.accessAllowed) {{\n",
       "          return;\n",
       "        }}\n",
       "        google.colab.files.view(filepath);\n",
       "      }})(\"/content/gdrive/My Drive/A0/aispace/great.py\")"
      ],
      "text/plain": [
       "<IPython.core.display.Javascript object>"
      ]
     },
     "metadata": {},
     "output_type": "display_data"
    }
   ],
   "source": [
    "from google.colab import files\n",
    "\n",
    "pth = os.path.join(home_dir, 'great.py')\n",
    "# pth = os.path.join(home_dir, 'run.py')\n",
    "# pth = os.path.join(home_dir, 'pycrop-yield-prediction/', 'run2.py')\n",
    "# pth = os.path.join(home_dir, 'pycrop-yield-prediction/', 'run3.py')\n",
    "# pth = os.path.join(home_dir, 'cyp/data', 'exporting.py')\n",
    "# pth = os.path.join(home_dir, 'cyp/data', 'preprocessing.py')\n",
    "# pth = os.path.join(home_dir, 'pycrop-yield-prediction/cyp/data', 'feature_engineering.py')\n",
    "# pth = os.path.join(home_dir, 'cyp/data', 'feature_engineering3.py')\n",
    "# pth = os.path.join(home_dir, 'cyp/models', 'base.py')\n",
    "# pth = os.path.join(home_dir, 'pycrop-yield-prediction/cyp/models', 'loss.py')\n",
    "\n",
    "\n",
    "print(pth)\n",
    "files.view(pth)"
   ]
  },
  {
   "cell_type": "code",
   "execution_count": null,
   "metadata": {
    "id": "tzka1wSV3NjS"
   },
   "outputs": [],
   "source": []
  }
 ],
 "metadata": {
  "colab": {
   "authorship_tag": "ABX9TyOwUsYrCJ4kXeyVI3TxpaGE",
   "provenance": []
  },
  "kernelspec": {
   "display_name": "Python 3 (ipykernel)",
   "language": "python",
   "name": "python3"
  },
  "language_info": {
   "codemirror_mode": {
    "name": "ipython",
    "version": 3
   },
   "file_extension": ".py",
   "mimetype": "text/x-python",
   "name": "python",
   "nbconvert_exporter": "python",
   "pygments_lexer": "ipython3",
   "version": "3.10.12"
  }
 },
 "nbformat": 4,
 "nbformat_minor": 4
}
